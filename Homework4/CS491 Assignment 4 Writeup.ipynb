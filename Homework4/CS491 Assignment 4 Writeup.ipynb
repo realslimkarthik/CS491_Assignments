{
 "cells": [
  {
   "cell_type": "markdown",
   "metadata": {},
   "source": [
    "## CS 491 Assignment 4 Write up"
   ]
  },
  {
   "cell_type": "markdown",
   "metadata": {},
   "source": [
    "### 1. Tweet Processing Steps\n",
    "\n",
    "The Tweet processing steps were as follows\n",
    "* Remove Stopwords\n",
    "* Replace URLs in a tweet with _URL_\n",
    "* Replace user handles in a tweet with _AT_USER_\n",
    "* Replace words that don't start with an alphabet. Eg: Emoticons like :D\n",
    "* Remove special characters\n",
    "* Replace repeated characters with 2 occurences of that character\n",
    "* Apply the NLTK PorterStemmer on the tweets after all the cleaning has been done"
   ]
  },
  {
   "cell_type": "markdown",
   "metadata": {},
   "source": [
    "### 2. Feature Space Description\n",
    "\n",
    "The feature space used was a combination of unigrams and bigrams. Both the unigrams and bigrams were put through all of the above Tweet Processing steps"
   ]
  },
  {
   "cell_type": "markdown",
   "metadata": {},
   "source": [
    "### 3. Parameter Tuning\n",
    "\n",
    "No extra work"
   ]
  },
  {
   "cell_type": "markdown",
   "metadata": {},
   "source": [
    "### 4. Metrics\n",
    "\n",
    "\n",
    "\n",
    "###### Accuracy\n",
    "\n",
    "|Classifier          |Training|10-Fold CV|Test|\n",
    "|:---:|:---:|:---:|:---:|\n",
    "|Naive Bayes         |88.19 %|64.54 %|71.03 %|\n",
    "|Logistic Regression |97.46 %|67.84 %|73.82 %|\n",
    "\n",
    "\n",
    "###### Precision, Recall, F1-Score\n",
    "\n",
    "\n",
    "|Classifier              |Precision          |Recall          |F1-Score       |\n",
    "|:---:|:---:|:---:|:---:|\n",
    "|Naive Bayes             |0.71105            |0.71358         |0.71231        |\n",
    "|Logistic Regression     |0.7381             |0.73811         |0.738107       |\n",
    "\n",
    "\n",
    "###### Confusion Matrix: Naive Bayes\n",
    "\n",
    "|             |Predicted 0|Predicted 1|\n",
    "|:-----------:|:---------:|:---------:|\n",
    "|**Actual 0** |    136    |     41    |\n",
    "|**Actual 1** |    63     |    119    |\n",
    "\n",
    "\n",
    "###### Confusion Matrix: Logistic Regression\n",
    "\n",
    "|             |Predicted 0|Predicted 1|\n",
    "|:-----------:|:---------:|:---------:|\n",
    "|**Actual 0** |    130    |     47    |\n",
    "|**Actual 1** |    47     |    135    |\n"
   ]
  },
  {
   "cell_type": "markdown",
   "metadata": {
    "collapsed": true
   },
   "source": [
    "### 5. Accuracy Plot\n",
    "\n",
    "![Accuracy Plot](./img/Accuracy_Chart.png \"\")\n",
    "\n",
    "\n",
    "From the graph, we can see that the Logistic Regression classifier overfits the most."
   ]
  },
  {
   "cell_type": "markdown",
   "metadata": {},
   "source": [
    "### 6. Precision, Recall F1-Score, Confusion Matrix in the Assignment's Context\n",
    "\n",
    "**Precision** is as follows\n",
    "  * (The number of 1's correctly classified in the test set) / (The total number of 1's in the test set)\n",
    "  * (The number of 0's correctly classified in the test set) / (The total number of 0's in the test set)\n",
    "\n",
    "**Recall** is as follows\n",
    "  * (The number of 1's correctly classified in the test set) / (The total number of values classified as 1 by the classifier in the test set)\n",
    "  * (The number of 0's correctly classified in the test set) / (The total number of values classified as 0 by the classifier in the test set)\n",
    "\n",
    "**F1-Score** is the harmonic mean of the above mentioned Precision and Recall\n",
    "\n",
    "**Confusion Matrix** is described in the Table below\n",
    "\n",
    "\n",
    "|               | Predicted 0                 | Predicted 1                 |\n",
    "|:-------------:|:---------------------------:|:---------------------------:|\n",
    "| **Actual 0**  |num(label == prediction == 0)|num(label != prediction == 1)|\n",
    "| **Actual 1**  |num(label != prediction == 0)|num(label == prediction == 1)|\n",
    "\n"
   ]
  },
  {
   "cell_type": "markdown",
   "metadata": {
    "collapsed": true
   },
   "source": [
    "### 10. Tweets with highest Prediction Probabilities\n",
    "\n",
    "**Correctly Classified**\n",
    "  1. \n",
    "    * _@David_Henrie *thats people mag haha i couldnt fit it all in.. i dont think those pictures ever made it in the magazine tho! haha_\n",
    "    * Probability: 0.9999999988837434\n",
    "  2. \n",
    "    * _i had 7 hours of sleep and now i cant go back to sleeping im thirsty_\n",
    "    * Probability: 0.999999392838995\n",
    "  3. \n",
    "     * _@duchess_rebecca Man... intervention is soo sad_\n",
    "     * Probability: 0.9999984609403177\n",
    "  4. \n",
    "     * _iiiii havent slept yet and i have to be at work in 40 minutes. boo_\n",
    "     * Probability: 0.9999971741610747\n",
    "  5. \n",
    "     * _going, going, aaand gone. poor moosie fell asleep in class http://twitpic.com/2y82y_\n",
    "     * Probability: 0.9999955435455488\n",
    "\n",
    "**Incorrectly Classified**\n",
    "\n",
    "  1. \n",
    "    * _Stuck at home I watch way to many border patrol programs..watching a new zeland one now. What the hell is MAF?_\n",
    "    * Probability: 0.9996191051874458\n",
    "  2. \n",
    "    * _@griffmiester no exchanging for me, my laptop hasn't arrived_\n",
    "    * Probability: 0.9992751969020601\n",
    "  3. \n",
    "    * _Feeling soree, bad idea to go running when your sick_\n",
    "    * Probability: 0.9987971855520478,\n",
    "  4. \n",
    "    * _@jemcam well i have uni stuff and netball but after netbal if i've done uni stuff we can_\n",
    "    * Probability: 0.9964657772968846\n",
    "  5. \n",
    "    * _@duncn Revision, again. Oh, and morning @itscammy!_\n",
    "    * Probability: 0.9964626563694955"
   ]
  },
  {
   "cell_type": "code",
   "execution_count": null,
   "metadata": {
    "collapsed": true
   },
   "outputs": [],
   "source": []
  }
 ],
 "metadata": {
  "kernelspec": {
   "display_name": "Python 3",
   "language": "python",
   "name": "python3"
  },
  "language_info": {
   "codemirror_mode": {
    "name": "ipython",
    "version": 3
   },
   "file_extension": ".py",
   "mimetype": "text/x-python",
   "name": "python",
   "nbconvert_exporter": "python",
   "pygments_lexer": "ipython3",
   "version": "3.5.1"
  }
 },
 "nbformat": 4,
 "nbformat_minor": 0
}
