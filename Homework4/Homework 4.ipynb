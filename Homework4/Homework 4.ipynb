{
 "cells": [
  {
   "cell_type": "code",
   "execution_count": 1,
   "metadata": {
    "collapsed": false
   },
   "outputs": [
    {
     "data": {
      "text/plain": [
       "[909, 137, 166, 245, 856]"
      ]
     },
     "execution_count": 1,
     "metadata": {},
     "output_type": "execute_result"
    }
   ],
   "source": [
    "import pyspark\n",
    "sc = pyspark.SparkContext('local[*]')\n",
    "\n",
    "# do something to prove it works\n",
    "rdd = sc.parallelize(range(1000))\n",
    "rdd.takeSample(False, 5)"
   ]
  },
  {
   "cell_type": "code",
   "execution_count": 15,
   "metadata": {
    "collapsed": false
   },
   "outputs": [],
   "source": [
    "tweet_rdd = sc.textFile('./data/train.csv'). \\\n",
    "    map(lambda line: (line.split(',')[0], line.split(',')[-1]))"
   ]
  },
  {
   "cell_type": "markdown",
   "metadata": {
    "collapsed": true
   },
   "source": [
    "### Tweet Processing Functions\n",
    "\n",
    "Below are the definitions of the functions that are used to process the tweets before being sent on to feature extraction"
   ]
  },
  {
   "cell_type": "code",
   "execution_count": 20,
   "metadata": {
    "collapsed": false
   },
   "outputs": [],
   "source": [
    "import re\n",
    "from nltk.stem.porter import PorterStemmer"
   ]
  },
  {
   "cell_type": "code",
   "execution_count": 29,
   "metadata": {
    "collapsed": false
   },
   "outputs": [],
   "source": [
    "with open('./data/stopwords.txt') as stopword_file:\n",
    "    stopwords = {stopword.strip(): 1 for stopword in stopword_file.readlines()}"
   ]
  },
  {
   "cell_type": "code",
   "execution_count": 24,
   "metadata": {
    "collapsed": false
   },
   "outputs": [],
   "source": [
    "def basic_cleaning(tweet):\n",
    "    punctuation_hash_regex = '[\\.\\?\\,\\!#]'\n",
    "    clean_tweet = tweet.lower()\n",
    "    clean_tweet = re.sub(punctuation_hash_regex, '', clean_tweet)\n",
    "    return clean_tweet"
   ]
  },
  {
   "cell_type": "code",
   "execution_count": 26,
   "metadata": {
    "collapsed": true
   },
   "outputs": [],
   "source": [
    "def remove_non_alpha_starting_words(tweet):\n",
    "    non_alpha_start_words_regex = '\\b[^a-zA-Z].+\\s'\n",
    "    clean_tweet = re.sub(non_alpha_start_words_regex, ' ', tweet)\n",
    "    return clean_tweet"
   ]
  },
  {
   "cell_type": "code",
   "execution_count": 27,
   "metadata": {
    "collapsed": true
   },
   "outputs": [],
   "source": [
    "def remove_stopwords(tweet, stopwords):\n",
    "    tweet_words = tweet.split()\n",
    "    tweet_without_stopwords = []\n",
    "    for word in tweet_words:\n",
    "        cleaned_word = word.strip().strip('.').strip(',').strip('?').strip(':').strip(';')\n",
    "        if cleaned_word.lower() not in stopwords and cleaned_word != '':\n",
    "            tweet_without_stopwords.append(cleaned_word)\n",
    "    return tweet_without_stopwords"
   ]
  },
  {
   "cell_type": "code",
   "execution_count": 25,
   "metadata": {
    "collapsed": true
   },
   "outputs": [],
   "source": [
    "def replace_urls(tweet):\n",
    "    url_regex = '((https?:\\/\\/(?:www\\.|(?!www))|)[^\\s\\.]+\\.[^\\s]{2,}|www\\.[^\\s]+\\.[^\\s]{2,})'\n",
    "    clean_tweet = re.sub(url_regex, 'URL', tweet)\n",
    "    return clean_tweet"
   ]
  },
  {
   "cell_type": "code",
   "execution_count": null,
   "metadata": {
    "collapsed": true
   },
   "outputs": [],
   "source": [
    "def replace_repeated_characters(tweet):\n",
    "    repeated_character_regex = ''"
   ]
  },
  {
   "cell_type": "code",
   "execution_count": null,
   "metadata": {
    "collapsed": true
   },
   "outputs": [],
   "source": []
  },
  {
   "cell_type": "code",
   "execution_count": null,
   "metadata": {
    "collapsed": true
   },
   "outputs": [],
   "source": []
  },
  {
   "cell_type": "code",
   "execution_count": null,
   "metadata": {
    "collapsed": true
   },
   "outputs": [],
   "source": []
  },
  {
   "cell_type": "code",
   "execution_count": null,
   "metadata": {
    "collapsed": true
   },
   "outputs": [],
   "source": []
  }
 ],
 "metadata": {
  "kernelspec": {
   "display_name": "Python 3",
   "language": "python",
   "name": "python3"
  },
  "language_info": {
   "codemirror_mode": {
    "name": "ipython",
    "version": 3
   },
   "file_extension": ".py",
   "mimetype": "text/x-python",
   "name": "python",
   "nbconvert_exporter": "python",
   "pygments_lexer": "ipython3",
   "version": "3.5.1"
  }
 },
 "nbformat": 4,
 "nbformat_minor": 0
}
