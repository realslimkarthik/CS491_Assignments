{
 "cells": [
  {
   "cell_type": "code",
   "execution_count": 1,
   "metadata": {
    "collapsed": false
   },
   "outputs": [
    {
     "data": {
      "text/plain": [
       "[909, 137, 166, 245, 856]"
      ]
     },
     "execution_count": 1,
     "metadata": {},
     "output_type": "execute_result"
    }
   ],
   "source": [
    "import pyspark\n",
    "sc = pyspark.SparkContext('local[*]')\n",
    "\n",
    "# do something to prove it works\n",
    "rdd = sc.parallelize(range(1000))\n",
    "rdd.takeSample(False, 5)"
   ]
  },
  {
   "cell_type": "code",
   "execution_count": 15,
   "metadata": {
    "collapsed": false
   },
   "outputs": [],
   "source": [
    "tweet_rdd = sc.textFile('./data/train.csv'). \\\n",
    "    map(lambda line: (line.split(',')[0], line.split(',')[-1]))"
   ]
  },
  {
   "cell_type": "markdown",
   "metadata": {
    "collapsed": true
   },
   "source": [
    "### Tweet Processing Functions\n",
    "\n",
    "Below are the definitions of the functions that are used to process the tweets before being sent on to feature extraction"
   ]
  },
  {
   "cell_type": "code",
   "execution_count": 139,
   "metadata": {
    "collapsed": false
   },
   "outputs": [],
   "source": [
    "import re\n",
    "from nltk.stem.porter import PorterStemmer"
   ]
  },
  {
   "cell_type": "code",
   "execution_count": 72,
   "metadata": {
    "collapsed": false
   },
   "outputs": [],
   "source": [
    "with open('./data/stopwords.txt') as stopword_file:\n",
    "    stopwords = {stopword.strip(): 1 for stopword in stopword_file.readlines()}\n",
    "    \n",
    "porter_stemmer = PorterStemmer()"
   ]
  },
  {
   "cell_type": "code",
   "execution_count": 80,
   "metadata": {
    "collapsed": false
   },
   "outputs": [],
   "source": [
    "def basic_cleaning(tweet):\n",
    "    punctuation_hash_regex = '[\\.\\?\\,\\!#]'\n",
    "    clean_tweet = tweet.lower()\n",
    "    clean_tweet = re.sub(punctuation_hash_regex, '', clean_tweet)\n",
    "    clean_tweet = clean_tweet.strip('\"').strip()\n",
    "    return clean_tweet"
   ]
  },
  {
   "cell_type": "code",
   "execution_count": 26,
   "metadata": {
    "collapsed": true
   },
   "outputs": [],
   "source": [
    "def remove_non_alpha_starting_words(tweet):\n",
    "    non_alpha_start_words_regex = '\\b[^a-zA-Z].+\\s'\n",
    "    clean_tweet = re.sub(non_alpha_start_words_regex, ' ', tweet)\n",
    "    return clean_tweet"
   ]
  },
  {
   "cell_type": "code",
   "execution_count": 66,
   "metadata": {
    "collapsed": true
   },
   "outputs": [],
   "source": [
    "def remove_stopwords(tweet, stopwords):\n",
    "    tweet_words = tweet.split()\n",
    "    tweet_without_stopwords = []\n",
    "    for word in tweet_words:\n",
    "        cleaned_word = word.strip().strip('.').strip(',').strip('?').strip(':').strip(';')\n",
    "        if cleaned_word.lower() not in stopwords and cleaned_word != '':\n",
    "            tweet_without_stopwords.append(cleaned_word)\n",
    "    return ' '.join(tweet_without_stopwords)"
   ]
  },
  {
   "cell_type": "code",
   "execution_count": 25,
   "metadata": {
    "collapsed": true
   },
   "outputs": [],
   "source": [
    "def replace_urls(tweet):\n",
    "    url_regex = '((https?:\\/\\/(?:www\\.|(?!www))|)[^\\s\\.]+\\.[^\\s]{2,}|www\\.[^\\s]+\\.[^\\s]{2,})'\n",
    "    clean_tweet = re.sub(url_regex, 'URL', tweet)\n",
    "    return clean_tweet"
   ]
  },
  {
   "cell_type": "code",
   "execution_count": 98,
   "metadata": {
    "collapsed": true
   },
   "outputs": [],
   "source": [
    "def replace_user_handles(tweet):\n",
    "    tweet_str = ' '.join(tweet) if isinstance(tweet, list) else tweet\n",
    "    user_handle_regex = '(?<=^|(?<=[^a-zA-Z0-9-_\\.]))@([A-Za-z]+[A-Za-z0-9]+)'\n",
    "    clean_tweet = re.sub(user_handle_regex, 'AT_USER', tweet_str)\n",
    "    return clean_tweet.split()"
   ]
  },
  {
   "cell_type": "code",
   "execution_count": 42,
   "metadata": {
    "collapsed": true
   },
   "outputs": [],
   "source": [
    "def replace_repeated_characters(tweet):\n",
    "    repeated_character_regex = '(\\w)\\\\1{2,}'\n",
    "    matches = re.finditer(repeated_character_regex, tweet)\n",
    "    clean_tweet = tweet\n",
    "    for match in matches:\n",
    "        start = match.start(0)\n",
    "        end = match.end(0)\n",
    "        char = tweet[start]\n",
    "        clean_tweet = re.sub(repeated_character_regex, char + char, clean_tweet[:end])\n",
    "        clean_tweet += tweet[end:]\n",
    "        \n",
    "    return clean_tweet"
   ]
  },
  {
   "cell_type": "code",
   "execution_count": 34,
   "metadata": {
    "collapsed": true
   },
   "outputs": [],
   "source": [
    "def stem_tweet(tweet, stemmer):\n",
    "    stemmed_tweet = [stemmer.stem(word) for word in tweet.split()]\n",
    "    return stemmed_tweet"
   ]
  },
  {
   "cell_type": "code",
   "execution_count": 194,
   "metadata": {
    "collapsed": false
   },
   "outputs": [],
   "source": [
    "clean_tweet_sentiment_rdd = tweet_rdd.map(lambda record: (record[0], remove_stopwords(record[1], stopwords))) \\\n",
    "    .map(lambda record: (record[0], basic_cleaning(record[1]))) \\\n",
    "    .map(lambda record: (record[0], remove_non_alpha_starting_words(record[1]))) \\\n",
    "    .map(lambda record: (record[0], replace_repeated_characters(record[1]))) \\\n",
    "    .map(lambda record: (record[0], replace_urls(record[1]))) \\\n",
    "    .map(lambda record: (record[0], stem_tweet(record[1], porter_stemmer))) \\\n",
    "    .map(lambda record: (record[0], replace_user_handles(record[1]))) \\\n",
    "    .map(lambda record: (int(record[0].strip('\"')), record[1]))\n"
   ]
  },
  {
   "cell_type": "markdown",
   "metadata": {
    "collapsed": false
   },
   "source": [
    "### Feature Extraction using HashingTF and IDF\n",
    "\n",
    "This section consists of extracting features to be fed into our algorithms to generate the classifier"
   ]
  },
  {
   "cell_type": "code",
   "execution_count": 173,
   "metadata": {
    "collapsed": true
   },
   "outputs": [],
   "source": [
    "from pyspark.mllib.feature import HashingTF\n",
    "from pyspark.mllib.feature import IDF\n",
    "from pyspark.mllib.regression import LabeledPoint"
   ]
  },
  {
   "cell_type": "code",
   "execution_count": 184,
   "metadata": {
    "collapsed": false
   },
   "outputs": [],
   "source": [
    "clean_tweet_rdd = tweet_rdd.map(lambda record: \" \".join(record[1]))"
   ]
  },
  {
   "cell_type": "code",
   "execution_count": 179,
   "metadata": {
    "collapsed": true
   },
   "outputs": [],
   "source": [
    "hashingtf = HashingTF()"
   ]
  },
  {
   "cell_type": "code",
   "execution_count": 217,
   "metadata": {
    "collapsed": false
   },
   "outputs": [],
   "source": [
    "def incrementer(start):\n",
    "    while True:\n",
    "        yield start + 1\n",
    "\n",
    "inc = incrementer(0)"
   ]
  },
  {
   "cell_type": "code",
   "execution_count": 234,
   "metadata": {
    "collapsed": true
   },
   "outputs": [],
   "source": [
    "def index_lines(inc, line):\n",
    "    return (next(inc), line)"
   ]
  },
  {
   "cell_type": "code",
   "execution_count": 248,
   "metadata": {
    "collapsed": false
   },
   "outputs": [],
   "source": [
    "tf = hashingtf.transform(clean_tweet_rdd)"
   ]
  },
  {
   "cell_type": "code",
   "execution_count": 269,
   "metadata": {
    "collapsed": false
   },
   "outputs": [],
   "source": [
    "tf_sentiment = clean_tweet_sentiment_rdd.map(lambda record: record[0]).zip(tf) \\\n",
    "    .map(lambda record: LabeledPoint(record[0], record[1]))"
   ]
  },
  {
   "cell_type": "code",
   "execution_count": 270,
   "metadata": {
    "collapsed": false
   },
   "outputs": [
    {
     "data": {
      "text/plain": [
       "[LabeledPoint(0.0, (1048576,[35920,40200,105642,113415,151034,173013,173606,211440,238153,265159,275028,279832,296409,372567,388504,425102,437751,469732,702216,734443,777769,793623,840959,875351,891534,897367],[1.0,4.0,2.0,1.0,1.0,1.0,3.0,2.0,6.0,6.0,1.0,1.0,1.0,1.0,1.0,1.0,1.0,1.0,3.0,5.0,2.0,3.0,1.0,87.0,4.0,3.0])),\n",
       " LabeledPoint(0.0, (1048576,[35920,173606,211440,238153,265159,279832,296409,335453,372567,388504,425102,524927,702216,702740,734443,777769,840959,875351,891534,897367,968035],[2.0,2.0,5.0,3.0,5.0,2.0,4.0,1.0,1.0,1.0,2.0,1.0,3.0,1.0,5.0,2.0,1.0,76.0,5.0,2.0,3.0])),\n",
       " LabeledPoint(0.0, (1048576,[35920,40200,105642,186435,211440,238153,265159,279832,296409,335453,372567,388504,425102,469732,517893,584844,702216,702740,734443,777769,840959,875351,891534,897367,968035],[3.0,5.0,6.0,1.0,2.0,5.0,9.0,3.0,6.0,1.0,2.0,5.0,2.0,1.0,1.0,2.0,3.0,2.0,11.0,2.0,1.0,112.0,3.0,3.0,2.0])),\n",
       " LabeledPoint(0.0, (1048576,[35920,173013,173606,211440,238153,243360,265159,279832,296409,372567,388504,425102,433442,437751,467546,570142,573745,584844,591145,702216,702740,734443,777769,840959,875351,891534,897367,968035],[1.0,1.0,2.0,3.0,4.0,1.0,8.0,2.0,3.0,1.0,2.0,1.0,2.0,1.0,1.0,1.0,1.0,3.0,1.0,4.0,3.0,3.0,2.0,3.0,91.0,3.0,3.0,4.0])),\n",
       " LabeledPoint(0.0, (1048576,[35920,40200,105642,173606,211440,238153,244458,265159,279832,296409,335453,372567,388504,425102,469732,584844,702216,734443,777769,875351,891534,897367,968035],[2.0,3.0,4.0,3.0,5.0,3.0,1.0,7.0,3.0,7.0,1.0,1.0,1.0,2.0,1.0,1.0,3.0,5.0,1.0,88.0,1.0,2.0,4.0]))]"
      ]
     },
     "execution_count": 270,
     "metadata": {},
     "output_type": "execute_result"
    }
   ],
   "source": [
    "tf_sentiment.take(5)"
   ]
  },
  {
   "cell_type": "code",
   "execution_count": null,
   "metadata": {
    "collapsed": true
   },
   "outputs": [],
   "source": [
    "training_rdd, test_rdd = clean_tweet_sentiment_rdd.randomSplit([0.6, 0.4])"
   ]
  }
 ],
 "metadata": {
  "kernelspec": {
   "display_name": "Python 3",
   "language": "python",
   "name": "python3"
  },
  "language_info": {
   "codemirror_mode": {
    "name": "ipython",
    "version": 3
   },
   "file_extension": ".py",
   "mimetype": "text/x-python",
   "name": "python",
   "nbconvert_exporter": "python",
   "pygments_lexer": "ipython3",
   "version": "3.5.1"
  }
 },
 "nbformat": 4,
 "nbformat_minor": 0
}
