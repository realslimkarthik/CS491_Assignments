{
 "cells": [
  {
   "cell_type": "code",
   "execution_count": 1,
   "metadata": {
    "collapsed": false
   },
   "outputs": [
    {
     "data": {
      "text/plain": [
       "[420, 449, 540, 105, 514]"
      ]
     },
     "execution_count": 1,
     "metadata": {},
     "output_type": "execute_result"
    }
   ],
   "source": [
    "import pyspark\n",
    "sc = pyspark.SparkContext('local[*]')\n",
    "\n",
    "# do something to prove it works\n",
    "rdd = sc.parallelize(range(1000))\n",
    "rdd.takeSample(False, 5)"
   ]
  },
  {
   "cell_type": "code",
   "execution_count": 2,
   "metadata": {
    "collapsed": false
   },
   "outputs": [],
   "source": [
    "tweet_rdd = sc.textFile('./data/train.csv') \\\n",
    "    .map(lambda line: (line.split(',')[0], line.split(',')[-1]))"
   ]
  },
  {
   "cell_type": "markdown",
   "metadata": {
    "collapsed": true
   },
   "source": [
    "### Tweet Processing Functions\n",
    "\n",
    "Below are the definitions of the functions that are used to process the tweets before being sent on to feature extraction"
   ]
  },
  {
   "cell_type": "code",
   "execution_count": 4,
   "metadata": {
    "collapsed": false
   },
   "outputs": [
    {
     "name": "stdout",
     "output_type": "stream",
     "text": [
      "Collecting nltk\n",
      "  Downloading nltk-3.2.1.tar.gz (1.1MB)\n",
      "\u001b[K    100% |████████████████████████████████| 1.1MB 402kB/s \n",
      "\u001b[?25hBuilding wheels for collected packages: nltk\n",
      "  Running setup.py bdist_wheel for nltk ... \u001b[?25l-\b \b\\\b \b|\b \b/\b \b-\b \b\\\b \b|\b \b/\b \b-\b \bdone\n",
      "\u001b[?25h  Stored in directory: /home/jovyan/.cache/pip/wheels/55/0b/ce/960dcdaec7c9af5b1f81d471a90c8dae88374386efe6e54a50\n",
      "Successfully built nltk\n",
      "Installing collected packages: nltk\n",
      "Successfully installed nltk-3.2.1\n"
     ]
    }
   ],
   "source": [
    "!pip install nltk"
   ]
  },
  {
   "cell_type": "code",
   "execution_count": 289,
   "metadata": {
    "collapsed": false
   },
   "outputs": [],
   "source": [
    "import re\n",
    "from nltk.stem.porter import PorterStemmer\n",
    "from nltk.corpus import stopwords"
   ]
  },
  {
   "cell_type": "code",
   "execution_count": 290,
   "metadata": {
    "collapsed": false
   },
   "outputs": [],
   "source": [
    "with open('./data/stopwords.txt') as stopword_file:\n",
    "    stopwords = {stopword.strip(): 1 for stopword in stopword_file.readlines()}\n",
    "    \n",
    "porter_stemmer = PorterStemmer()"
   ]
  },
  {
   "cell_type": "code",
   "execution_count": 387,
   "metadata": {
    "collapsed": false
   },
   "outputs": [],
   "source": [
    "def basic_cleaning(tweet):\n",
    "    clean_tweet = tweet.lower().strip().strip('\\'').strip('\"')\n",
    "    clean_tweet = clean_tweet.replace('.', '').replace('?', '').replace(',', '').replace('#', '') \\\n",
    "        .replace('!', '').replace('\\'', '').replace('\"', '').replace('..', '').replace('...', '')\n",
    "    clean_tweet = re.sub('\\d+', '', clean_tweet)\n",
    "    clean_tweet = clean_tweet.strip('\"').strip()\n",
    "    return clean_tweet"
   ]
  },
  {
   "cell_type": "code",
   "execution_count": 371,
   "metadata": {
    "collapsed": true
   },
   "outputs": [],
   "source": [
    "def remove_non_alpha_starting_words(tweet):\n",
    "    non_alpha_start_words_regex = '(^|\\s)(:|;)(D|d|\\/)(?=\\s|[^[:alnum:]+-]|$)'\n",
    "    non_alpha_start_words_regex = '(^|\\s)[^a-zA-Z]\\w*($|\\s)'\n",
    "    clean_tweet = re.sub(non_alpha_start_words_regex, ' ', tweet)\n",
    "    return clean_tweet"
   ]
  },
  {
   "cell_type": "code",
   "execution_count": 333,
   "metadata": {
    "collapsed": true
   },
   "outputs": [],
   "source": [
    "def remove_stopwords(tweet):\n",
    "    tweet_words = tweet.split()\n",
    "    tweet_without_stopwords = [word for word in tweet_words if word not in stopwords]\n",
    "    return ' '.join(tweet_without_stopwords)"
   ]
  },
  {
   "cell_type": "code",
   "execution_count": 334,
   "metadata": {
    "collapsed": true
   },
   "outputs": [],
   "source": [
    "def replace_urls(tweet):\n",
    "    url_regex = '((https?:\\/\\/(?:www\\.|(?!www))|)[^\\s\\.]+\\.[^\\s]{2,}|www\\.[^\\s]+\\.[^\\s]{2,})'\n",
    "    clean_tweet = re.sub(url_regex, 'URL', tweet)\n",
    "    return clean_tweet"
   ]
  },
  {
   "cell_type": "code",
   "execution_count": 335,
   "metadata": {
    "collapsed": false
   },
   "outputs": [],
   "source": [
    "def replace_user_handles(tweet):\n",
    "    tweet_str = ' '.join(tweet) if isinstance(tweet, list) else tweet\n",
    "    user_handle_regex = '(?<=^|(?<=[^a-zA-Z0-9-_\\.]))@([A-Za-z]+[A-Za-z0-9]+)'\n",
    "    clean_tweet = re.sub(user_handle_regex, 'AT_USER', tweet_str)\n",
    "\n",
    "    return clean_tweet"
   ]
  },
  {
   "cell_type": "code",
   "execution_count": 336,
   "metadata": {
    "collapsed": true
   },
   "outputs": [],
   "source": [
    "def replace_repeated_characters(tweet):\n",
    "    repeated_character_regex = '(\\w)\\\\1{2,}'\n",
    "    matches = re.finditer(repeated_character_regex, tweet)\n",
    "    clean_tweet = tweet\n",
    "    for match in matches:\n",
    "        start = match.start(0)\n",
    "        end = match.end(0)\n",
    "        char = tweet[start]\n",
    "        clean_tweet = re.sub(repeated_character_regex, char + char, clean_tweet[:end])\n",
    "        clean_tweet += tweet[end:]\n",
    "        \n",
    "    return clean_tweet"
   ]
  },
  {
   "cell_type": "code",
   "execution_count": 337,
   "metadata": {
    "collapsed": true
   },
   "outputs": [],
   "source": [
    "def stem_tweet(tweet, stemmer):\n",
    "    stemmed_tweet = [stemmer.stem(word) for word in tweet.split()]\n",
    "    return ' '.join(stemmed_tweet)"
   ]
  },
  {
   "cell_type": "code",
   "execution_count": 388,
   "metadata": {
    "collapsed": false
   },
   "outputs": [],
   "source": [
    "clean_tweet_sentiment_rdd = tweet_rdd.map(lambda record: (record[0], basic_cleaning(record[1]))) \\\n",
    "    .map(lambda record: (record[0], replace_urls(record[1]))) \\\n",
    "    .map(lambda record: (record[0], replace_user_handles(record[1]))) \\\n",
    "    .map(lambda record: (record[0], remove_non_alpha_starting_words(record[1]))) \\\n",
    "    .map(lambda record: (record[0], remove_stopwords(record[1]))) \\\n",
    "    .map(lambda record: (int(record[0].strip('\"')), record[1])) \\\n",
    "    .map(lambda record: (record[0], replace_repeated_characters(record[1]))) \\\n",
    "    .map(lambda record: (record[0], stem_tweet(record[1], porter_stemmer)))"
   ]
  },
  {
   "cell_type": "code",
   "execution_count": 389,
   "metadata": {
    "collapsed": false
   },
   "outputs": [
    {
     "data": {
      "text/plain": [
       "[(0, 'that bummer shoulda got david carr third day'),\n",
       " (0, 'AT_US day didnt get much done'),\n",
       " (0, 'realli dont feel like get today got studi tomorrow practic exam'),\n",
       " (0, 'commiss play cop blood sand'),\n",
       " (0, 'sleep soon hate say bye see tomorrow night')]"
      ]
     },
     "execution_count": 389,
     "metadata": {},
     "output_type": "execute_result"
    }
   ],
   "source": [
    "clean_tweet_sentiment_rdd.take(5)"
   ]
  },
  {
   "cell_type": "code",
   "execution_count": 345,
   "metadata": {
    "collapsed": false
   },
   "outputs": [
    {
     "data": {
      "text/plain": [
       "[('\"0\"',\n",
       "  ' that\\'s a bummer.  You shoulda got David Carr of Third Day to do it. ;D\"'),\n",
       " ('\"0\"', '\"@alydesigns i was out most of the day so didn\\'t get much done \"'),\n",
       " ('\"0\"',\n",
       "  '\"really don\\'t feel like getting up today... but got to study to for tomorrows practical exam... \"'),\n",
       " ('\"0\"',\n",
       "  ' it\\'s out of commission  Wutcha playing? Have you copped \\'Blood On The Sand\\'?\"'),\n",
       " ('\"0\"',\n",
       "  '\"sleep soon... i just hate saying bye and see you tomorrow for the night. \"')]"
      ]
     },
     "execution_count": 345,
     "metadata": {},
     "output_type": "execute_result"
    }
   ],
   "source": [
    "tweet_rdd.take(5)"
   ]
  },
  {
   "cell_type": "markdown",
   "metadata": {
    "collapsed": false
   },
   "source": [
    "### Feature Extraction using HashingTF and IDF\n",
    "\n",
    "This section consists of extracting features to be fed into our algorithms to generate the classifier"
   ]
  },
  {
   "cell_type": "code",
   "execution_count": 390,
   "metadata": {
    "collapsed": true
   },
   "outputs": [],
   "source": [
    "from pyspark.mllib.feature import HashingTF, IDF\n",
    "from pyspark.mllib.regression import LabeledPoint\n",
    "from pyspark.mllib.classification import NaiveBayes, NaiveBayesModel"
   ]
  },
  {
   "cell_type": "code",
   "execution_count": 391,
   "metadata": {
    "collapsed": false
   },
   "outputs": [],
   "source": [
    "clean_tweet_rdd = clean_tweet_sentiment_rdd.map(lambda record: \" \".join(record[1]))"
   ]
  },
  {
   "cell_type": "code",
   "execution_count": 392,
   "metadata": {
    "collapsed": true
   },
   "outputs": [],
   "source": [
    "hashingtf = HashingTF(100000)"
   ]
  },
  {
   "cell_type": "code",
   "execution_count": 400,
   "metadata": {
    "collapsed": false
   },
   "outputs": [],
   "source": [
    "tf = hashingtf.transform(clean_tweet_rdd)\n",
    "tf.cache()\n",
    "idf = IDF(minDocFreq=2).fit(tf)\n",
    "tfidf = idf.transform(tf)"
   ]
  },
  {
   "cell_type": "code",
   "execution_count": 401,
   "metadata": {
    "collapsed": false
   },
   "outputs": [],
   "source": [
    "tf_idf_sentiment = clean_tweet_sentiment_rdd.map(lambda record: record[0]).zip(tfidf) \\\n",
    "    .map(lambda record: LabeledPoint(record[0], record[1]))"
   ]
  },
  {
   "cell_type": "code",
   "execution_count": 402,
   "metadata": {
    "collapsed": true
   },
   "outputs": [],
   "source": [
    "training, test = tf_idf_sentiment.randomSplit([0.9, 0.1])"
   ]
  },
  {
   "cell_type": "markdown",
   "metadata": {},
   "source": [
    "### Naive Bayes\n",
    "\n",
    "This section consists of the training of a Naive Bayes model and checking its accuracy value"
   ]
  },
  {
   "cell_type": "code",
   "execution_count": 410,
   "metadata": {
    "collapsed": false
   },
   "outputs": [],
   "source": [
    "model = NaiveBayes.train(training, 1.0)"
   ]
  },
  {
   "cell_type": "code",
   "execution_count": 412,
   "metadata": {
    "collapsed": false
   },
   "outputs": [],
   "source": [
    "predictionAndLabel = test.map(lambda p: (model.predict(p.features), p.label))"
   ]
  },
  {
   "cell_type": "code",
   "execution_count": 413,
   "metadata": {
    "collapsed": false
   },
   "outputs": [
    {
     "data": {
      "text/plain": [
       "0.5688696726374305"
      ]
     },
     "execution_count": 413,
     "metadata": {},
     "output_type": "execute_result"
    }
   ],
   "source": [
    "accuracy = predictionAndLabel.filter(lambda x: x[0] == x[1]).count() / test.count()\n",
    "accuracy"
   ]
  },
  {
   "cell_type": "code",
   "execution_count": 190,
   "metadata": {
    "collapsed": true
   },
   "outputs": [],
   "source": [
    "test_rdd = sc.textFile('./data/test.csv') \\\n",
    "    .map(lambda line: (line.split(',')[0], line.split(',')[-1]))"
   ]
  },
  {
   "cell_type": "code",
   "execution_count": 191,
   "metadata": {
    "collapsed": true
   },
   "outputs": [],
   "source": [
    "test_sentiment_rdd = test_rdd.map(lambda record: (record[0], remove_stopwords(record[1], stopwords))) \\\n",
    "    .map(lambda record: (record[0], basic_cleaning(record[1]))) \\\n",
    "    .map(lambda record: (record[0], remove_non_alpha_starting_words(record[1]))) \\\n",
    "    .map(lambda record: (record[0], replace_repeated_characters(record[1]))) \\\n",
    "    .map(lambda record: (record[0], replace_urls(record[1]))) \\\n",
    "    .map(lambda record: (record[0], stem_tweet(record[1], porter_stemmer))) \\\n",
    "    .map(lambda record: (record[0], replace_user_handles(record[1]))) \\\n",
    "    .map(lambda record: (int(record[0].strip('\"')), record[1]))"
   ]
  },
  {
   "cell_type": "code",
   "execution_count": 192,
   "metadata": {
    "collapsed": true
   },
   "outputs": [],
   "source": [
    "clean_test_rdd = test_sentiment_rdd.map(lambda record: \" \".join(record[1]))"
   ]
  },
  {
   "cell_type": "code",
   "execution_count": 193,
   "metadata": {
    "collapsed": false
   },
   "outputs": [],
   "source": [
    "test_tf = hashingtf.transform(clean_test_rdd)\n",
    "test_tf.cache()\n",
    "test_idf = IDF().fit(test_tf)\n",
    "test_tfidf = idf.transform(test_tf)"
   ]
  },
  {
   "cell_type": "code",
   "execution_count": 194,
   "metadata": {
    "collapsed": true
   },
   "outputs": [],
   "source": [
    "test_tf_idf_sentiment = test_sentiment_rdd.map(lambda record: record[0]).zip(test_tfidf) \\\n",
    "    .map(lambda record: LabeledPoint(record[0], record[1]))"
   ]
  },
  {
   "cell_type": "code",
   "execution_count": 195,
   "metadata": {
    "collapsed": false
   },
   "outputs": [],
   "source": [
    "predictionAndLabel = test_tf_idf_sentiment.map(lambda p: (model.predict(p.features), p.label))"
   ]
  },
  {
   "cell_type": "code",
   "execution_count": 196,
   "metadata": {
    "collapsed": false
   },
   "outputs": [
    {
     "data": {
      "text/plain": [
       "0.5543175487465181"
      ]
     },
     "execution_count": 196,
     "metadata": {},
     "output_type": "execute_result"
    }
   ],
   "source": [
    "accuracy = predictionAndLabel.filter(lambda x: x[0] == x[1]).count() / test_tf_idf_sentiment.count()\n",
    "accuracy"
   ]
  },
  {
   "cell_type": "markdown",
   "metadata": {
    "collapsed": true
   },
   "source": [
    "### Logistic Regression\n",
    "\n",
    "This following section describes the Logistic Regression steps"
   ]
  },
  {
   "cell_type": "code",
   "execution_count": 414,
   "metadata": {
    "collapsed": true
   },
   "outputs": [],
   "source": [
    "from pyspark.mllib.classification import LogisticRegressionWithLBFGS, LogisticRegressionModel"
   ]
  },
  {
   "cell_type": "code",
   "execution_count": 415,
   "metadata": {
    "collapsed": true
   },
   "outputs": [],
   "source": [
    "model = LogisticRegressionWithLBFGS.train(training)"
   ]
  },
  {
   "cell_type": "code",
   "execution_count": 416,
   "metadata": {
    "collapsed": true
   },
   "outputs": [],
   "source": [
    "labelsAndPreds = test.map(lambda p: (p.label, model.predict(p.features)))\n",
    "trainErr = labelsAndPreds.filter(lambda record: record[0] != record[1]).count() / float(test.count())"
   ]
  },
  {
   "cell_type": "code",
   "execution_count": 417,
   "metadata": {
    "collapsed": false
   },
   "outputs": [
    {
     "data": {
      "text/plain": [
       "0.4170475602223595"
      ]
     },
     "execution_count": 417,
     "metadata": {},
     "output_type": "execute_result"
    }
   ],
   "source": [
    "trainErr"
   ]
  },
  {
   "cell_type": "code",
   "execution_count": 411,
   "metadata": {
    "collapsed": true
   },
   "outputs": [],
   "source": [
    "def k_fold_cross_validation(k_value, model1, model2, data):\n",
    "    avg_accuracy1 = get_avg_accuracy(k_value, model1, data)\n",
    "    avg_accuracy2 = get_avg_accuracy(k_value, model2, data)\n",
    "    best_model = None\n",
    "    if avg_accuracy1 > avg_accuracy2:\n",
    "        best_model = model1\n",
    "    else:\n",
    "        best_model = model2\n",
    "    \n",
    "    return best_model\n",
    "\n",
    "\n",
    "def get_avg_accuracy(k_value, model_type, data):\n",
    "    split_ratio = [0.1 for i in range(0, k_value)]\n",
    "    data_split = data.randomSplit(split_ratio)\n",
    "    test_index = 0\n",
    "    avg_accuracy = 0\n",
    "    best_model = None\n",
    "    for test_index in range(0, k_value):\n",
    "        training_list = [i for index, i in enumerate(data_split) if index != test_index]\n",
    "        training_rdd = sc.emptyRDD()\n",
    "        for training in training_list:\n",
    "            training_rdd.union(training)\n",
    "        model = model_type.train(training, 1.0)\n",
    "        accuracy = test_with_model(model, data_split[test_index])\n",
    "        avg_accuracy += accuracy\n",
    "    \n",
    "    avg_accuracy /= k_value\n",
    "    \n",
    "    return avg_accuracy\n",
    "\n",
    "\n",
    "def test_with_model(model, test):\n",
    "    predictionAndLabel = test.map(lambda p: (model.predict(p.features), p.label))\n",
    "    accuracy = predictionAndLabel.filter(lambda x: x[0] == x[1]).count() / test.count()\n",
    "    return accuracy"
   ]
  },
  {
   "cell_type": "code",
   "execution_count": null,
   "metadata": {
    "collapsed": false
   },
   "outputs": [],
   "source": [
    "best_model = k_fold_cross_validation(10, NaiveBayes, LogisticRegressionWithLBFGS, tf_idf_sentiment)"
   ]
  },
  {
   "cell_type": "code",
   "execution_count": null,
   "metadata": {
    "collapsed": true
   },
   "outputs": [],
   "source": [
    "best_model"
   ]
  },
  {
   "cell_type": "code",
   "execution_count": null,
   "metadata": {
    "collapsed": true
   },
   "outputs": [],
   "source": []
  },
  {
   "cell_type": "code",
   "execution_count": null,
   "metadata": {
    "collapsed": true
   },
   "outputs": [],
   "source": []
  },
  {
   "cell_type": "code",
   "execution_count": null,
   "metadata": {
    "collapsed": true
   },
   "outputs": [],
   "source": []
  }
 ],
 "metadata": {
  "kernelspec": {
   "display_name": "Python 3",
   "language": "python",
   "name": "python3"
  },
  "language_info": {
   "codemirror_mode": {
    "name": "ipython",
    "version": 3
   },
   "file_extension": ".py",
   "mimetype": "text/x-python",
   "name": "python",
   "nbconvert_exporter": "python",
   "pygments_lexer": "ipython3",
   "version": "3.5.1"
  }
 },
 "nbformat": 4,
 "nbformat_minor": 0
}
